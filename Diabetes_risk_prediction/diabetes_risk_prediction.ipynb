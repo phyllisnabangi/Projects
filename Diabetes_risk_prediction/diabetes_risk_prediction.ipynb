{
 "cells": [
  {
   "cell_type": "markdown",
   "id": "f123db45",
   "metadata": {},
   "source": [
    "# Import Required Libraries"
   ]
  },
  {
   "cell_type": "code",
   "execution_count": 1,
   "id": "0885ece9",
   "metadata": {},
   "outputs": [],
   "source": [
    "import pandas as pd\n",
    "import numpy as np\n",
    "import matplotlib.pyplot as plt\n",
    "import seaborn as sns\n",
    "\n",
    "#for feature selection\n",
    "import statsmodels.api as sm\n",
    "\n",
    "from sklearn.ensemble import RandomForestClassifier #ensemble model\n",
    "from sklearn.naive_bayes import GaussianNB #probabilistic\n",
    "from sklearn import svm\n",
    "from sklearn.neural_network import MLPClassifier\n",
    "\n",
    "from sklearn.model_selection import cross_validate\n",
    "from sklearn.model_selection import cross_val_score\n",
    "from sklearn.model_selection import  cross_val_predict\n",
    "from sklearn import metrics\n",
    "\n",
    "from sklearn.metrics import confusion_matrix, classification_report #evaluation \n",
    "\n",
    "from sklearn.preprocessing import LabelEncoder #preprocessing\n",
    "from sklearn.model_selection import train_test_split #training and testing\n",
    "\n",
    "from sklearn.metrics import accuracy_score\n",
    "\n",
    "from prettytable import PrettyTable\n",
    "\n",
    "import warnings\n",
    "warnings.filterwarnings(\"ignore\")"
   ]
  },
  {
   "cell_type": "markdown",
   "id": "abc375aa",
   "metadata": {},
   "source": [
    "# Data Preparation"
   ]
  },
  {
   "cell_type": "code",
   "execution_count": 2,
   "id": "8dc270fb",
   "metadata": {},
   "outputs": [
    {
     "data": {
      "text/html": [
       "<div>\n",
       "<style scoped>\n",
       "    .dataframe tbody tr th:only-of-type {\n",
       "        vertical-align: middle;\n",
       "    }\n",
       "\n",
       "    .dataframe tbody tr th {\n",
       "        vertical-align: top;\n",
       "    }\n",
       "\n",
       "    .dataframe thead th {\n",
       "        text-align: right;\n",
       "    }\n",
       "</style>\n",
       "<table border=\"1\" class=\"dataframe\">\n",
       "  <thead>\n",
       "    <tr style=\"text-align: right;\">\n",
       "      <th></th>\n",
       "      <th>Age</th>\n",
       "      <th>Gender</th>\n",
       "      <th>Polyuria</th>\n",
       "      <th>Polydipsia</th>\n",
       "      <th>sudden weight loss</th>\n",
       "      <th>weakness</th>\n",
       "      <th>Polyphagia</th>\n",
       "      <th>Genital thrush</th>\n",
       "      <th>visual blurring</th>\n",
       "      <th>Itching</th>\n",
       "      <th>Irritability</th>\n",
       "      <th>delayed healing</th>\n",
       "      <th>partial paresis</th>\n",
       "      <th>muscle stiffness</th>\n",
       "      <th>Alopecia</th>\n",
       "      <th>Obesity</th>\n",
       "      <th>class</th>\n",
       "    </tr>\n",
       "  </thead>\n",
       "  <tbody>\n",
       "    <tr>\n",
       "      <th>304</th>\n",
       "      <td>69</td>\n",
       "      <td>Female</td>\n",
       "      <td>Yes</td>\n",
       "      <td>Yes</td>\n",
       "      <td>Yes</td>\n",
       "      <td>Yes</td>\n",
       "      <td>No</td>\n",
       "      <td>No</td>\n",
       "      <td>Yes</td>\n",
       "      <td>Yes</td>\n",
       "      <td>Yes</td>\n",
       "      <td>No</td>\n",
       "      <td>No</td>\n",
       "      <td>Yes</td>\n",
       "      <td>No</td>\n",
       "      <td>Yes</td>\n",
       "      <td>Positive</td>\n",
       "    </tr>\n",
       "    <tr>\n",
       "      <th>394</th>\n",
       "      <td>59</td>\n",
       "      <td>Female</td>\n",
       "      <td>No</td>\n",
       "      <td>No</td>\n",
       "      <td>No</td>\n",
       "      <td>Yes</td>\n",
       "      <td>No</td>\n",
       "      <td>No</td>\n",
       "      <td>Yes</td>\n",
       "      <td>Yes</td>\n",
       "      <td>No</td>\n",
       "      <td>Yes</td>\n",
       "      <td>No</td>\n",
       "      <td>Yes</td>\n",
       "      <td>Yes</td>\n",
       "      <td>Yes</td>\n",
       "      <td>Negative</td>\n",
       "    </tr>\n",
       "    <tr>\n",
       "      <th>245</th>\n",
       "      <td>30</td>\n",
       "      <td>Male</td>\n",
       "      <td>No</td>\n",
       "      <td>No</td>\n",
       "      <td>No</td>\n",
       "      <td>No</td>\n",
       "      <td>No</td>\n",
       "      <td>No</td>\n",
       "      <td>No</td>\n",
       "      <td>No</td>\n",
       "      <td>No</td>\n",
       "      <td>No</td>\n",
       "      <td>No</td>\n",
       "      <td>No</td>\n",
       "      <td>No</td>\n",
       "      <td>No</td>\n",
       "      <td>Negative</td>\n",
       "    </tr>\n",
       "    <tr>\n",
       "      <th>211</th>\n",
       "      <td>40</td>\n",
       "      <td>Male</td>\n",
       "      <td>No</td>\n",
       "      <td>No</td>\n",
       "      <td>No</td>\n",
       "      <td>Yes</td>\n",
       "      <td>No</td>\n",
       "      <td>No</td>\n",
       "      <td>No</td>\n",
       "      <td>No</td>\n",
       "      <td>Yes</td>\n",
       "      <td>No</td>\n",
       "      <td>No</td>\n",
       "      <td>No</td>\n",
       "      <td>No</td>\n",
       "      <td>No</td>\n",
       "      <td>Negative</td>\n",
       "    </tr>\n",
       "    <tr>\n",
       "      <th>93</th>\n",
       "      <td>40</td>\n",
       "      <td>Female</td>\n",
       "      <td>Yes</td>\n",
       "      <td>Yes</td>\n",
       "      <td>No</td>\n",
       "      <td>Yes</td>\n",
       "      <td>Yes</td>\n",
       "      <td>No</td>\n",
       "      <td>No</td>\n",
       "      <td>Yes</td>\n",
       "      <td>No</td>\n",
       "      <td>No</td>\n",
       "      <td>Yes</td>\n",
       "      <td>No</td>\n",
       "      <td>No</td>\n",
       "      <td>No</td>\n",
       "      <td>Positive</td>\n",
       "    </tr>\n",
       "    <tr>\n",
       "      <th>65</th>\n",
       "      <td>40</td>\n",
       "      <td>Female</td>\n",
       "      <td>Yes</td>\n",
       "      <td>No</td>\n",
       "      <td>Yes</td>\n",
       "      <td>No</td>\n",
       "      <td>Yes</td>\n",
       "      <td>No</td>\n",
       "      <td>No</td>\n",
       "      <td>No</td>\n",
       "      <td>No</td>\n",
       "      <td>No</td>\n",
       "      <td>No</td>\n",
       "      <td>No</td>\n",
       "      <td>No</td>\n",
       "      <td>No</td>\n",
       "      <td>Positive</td>\n",
       "    </tr>\n",
       "    <tr>\n",
       "      <th>188</th>\n",
       "      <td>70</td>\n",
       "      <td>Male</td>\n",
       "      <td>Yes</td>\n",
       "      <td>No</td>\n",
       "      <td>Yes</td>\n",
       "      <td>Yes</td>\n",
       "      <td>Yes</td>\n",
       "      <td>Yes</td>\n",
       "      <td>No</td>\n",
       "      <td>No</td>\n",
       "      <td>Yes</td>\n",
       "      <td>Yes</td>\n",
       "      <td>Yes</td>\n",
       "      <td>Yes</td>\n",
       "      <td>Yes</td>\n",
       "      <td>No</td>\n",
       "      <td>Positive</td>\n",
       "    </tr>\n",
       "    <tr>\n",
       "      <th>281</th>\n",
       "      <td>47</td>\n",
       "      <td>Male</td>\n",
       "      <td>No</td>\n",
       "      <td>No</td>\n",
       "      <td>No</td>\n",
       "      <td>No</td>\n",
       "      <td>No</td>\n",
       "      <td>No</td>\n",
       "      <td>No</td>\n",
       "      <td>Yes</td>\n",
       "      <td>No</td>\n",
       "      <td>No</td>\n",
       "      <td>No</td>\n",
       "      <td>No</td>\n",
       "      <td>Yes</td>\n",
       "      <td>No</td>\n",
       "      <td>Negative</td>\n",
       "    </tr>\n",
       "    <tr>\n",
       "      <th>289</th>\n",
       "      <td>40</td>\n",
       "      <td>Male</td>\n",
       "      <td>No</td>\n",
       "      <td>No</td>\n",
       "      <td>Yes</td>\n",
       "      <td>No</td>\n",
       "      <td>No</td>\n",
       "      <td>No</td>\n",
       "      <td>No</td>\n",
       "      <td>No</td>\n",
       "      <td>No</td>\n",
       "      <td>No</td>\n",
       "      <td>No</td>\n",
       "      <td>No</td>\n",
       "      <td>No</td>\n",
       "      <td>Yes</td>\n",
       "      <td>Negative</td>\n",
       "    </tr>\n",
       "    <tr>\n",
       "      <th>416</th>\n",
       "      <td>55</td>\n",
       "      <td>Female</td>\n",
       "      <td>Yes</td>\n",
       "      <td>Yes</td>\n",
       "      <td>Yes</td>\n",
       "      <td>No</td>\n",
       "      <td>Yes</td>\n",
       "      <td>No</td>\n",
       "      <td>No</td>\n",
       "      <td>Yes</td>\n",
       "      <td>No</td>\n",
       "      <td>Yes</td>\n",
       "      <td>Yes</td>\n",
       "      <td>No</td>\n",
       "      <td>No</td>\n",
       "      <td>No</td>\n",
       "      <td>Positive</td>\n",
       "    </tr>\n",
       "  </tbody>\n",
       "</table>\n",
       "</div>"
      ],
      "text/plain": [
       "     Age  Gender Polyuria Polydipsia sudden weight loss weakness Polyphagia  \\\n",
       "304   69  Female      Yes        Yes                Yes      Yes         No   \n",
       "394   59  Female       No         No                 No      Yes         No   \n",
       "245   30    Male       No         No                 No       No         No   \n",
       "211   40    Male       No         No                 No      Yes         No   \n",
       "93    40  Female      Yes        Yes                 No      Yes        Yes   \n",
       "65    40  Female      Yes         No                Yes       No        Yes   \n",
       "188   70    Male      Yes         No                Yes      Yes        Yes   \n",
       "281   47    Male       No         No                 No       No         No   \n",
       "289   40    Male       No         No                Yes       No         No   \n",
       "416   55  Female      Yes        Yes                Yes       No        Yes   \n",
       "\n",
       "    Genital thrush visual blurring Itching Irritability delayed healing  \\\n",
       "304             No             Yes     Yes          Yes              No   \n",
       "394             No             Yes     Yes           No             Yes   \n",
       "245             No              No      No           No              No   \n",
       "211             No              No      No          Yes              No   \n",
       "93              No              No     Yes           No              No   \n",
       "65              No              No      No           No              No   \n",
       "188            Yes              No      No          Yes             Yes   \n",
       "281             No              No     Yes           No              No   \n",
       "289             No              No      No           No              No   \n",
       "416             No              No     Yes           No             Yes   \n",
       "\n",
       "    partial paresis muscle stiffness Alopecia Obesity     class  \n",
       "304              No              Yes       No     Yes  Positive  \n",
       "394              No              Yes      Yes     Yes  Negative  \n",
       "245              No               No       No      No  Negative  \n",
       "211              No               No       No      No  Negative  \n",
       "93              Yes               No       No      No  Positive  \n",
       "65               No               No       No      No  Positive  \n",
       "188             Yes              Yes      Yes      No  Positive  \n",
       "281              No               No      Yes      No  Negative  \n",
       "289              No               No       No     Yes  Negative  \n",
       "416             Yes               No       No      No  Positive  "
      ]
     },
     "execution_count": 2,
     "metadata": {},
     "output_type": "execute_result"
    }
   ],
   "source": [
    "# load the diabetes dataset\n",
    "diabetes_data = pd.read_csv(\"diabetes_data_upload.csv\")\n",
    "diabetes_data.sample(10)"
   ]
  },
  {
   "cell_type": "code",
   "execution_count": 3,
   "id": "f8316dce",
   "metadata": {},
   "outputs": [
    {
     "data": {
      "text/plain": [
       "(520, 17)"
      ]
     },
     "execution_count": 3,
     "metadata": {},
     "output_type": "execute_result"
    }
   ],
   "source": [
    "#shape of the dataset\n",
    "diabetes_data.shape"
   ]
  },
  {
   "cell_type": "markdown",
   "id": "8763404c",
   "metadata": {},
   "source": [
    "The diabetes dataset has 520 rows and  17 columns."
   ]
  },
  {
   "cell_type": "code",
   "execution_count": 4,
   "id": "f7452541",
   "metadata": {},
   "outputs": [
    {
     "name": "stdout",
     "output_type": "stream",
     "text": [
      "<class 'pandas.core.frame.DataFrame'>\n",
      "RangeIndex: 520 entries, 0 to 519\n",
      "Data columns (total 17 columns):\n",
      " #   Column              Non-Null Count  Dtype \n",
      "---  ------              --------------  ----- \n",
      " 0   Age                 520 non-null    int64 \n",
      " 1   Gender              520 non-null    object\n",
      " 2   Polyuria            520 non-null    object\n",
      " 3   Polydipsia          520 non-null    object\n",
      " 4   sudden weight loss  520 non-null    object\n",
      " 5   weakness            520 non-null    object\n",
      " 6   Polyphagia          520 non-null    object\n",
      " 7   Genital thrush      520 non-null    object\n",
      " 8   visual blurring     520 non-null    object\n",
      " 9   Itching             520 non-null    object\n",
      " 10  Irritability        520 non-null    object\n",
      " 11  delayed healing     520 non-null    object\n",
      " 12  partial paresis     520 non-null    object\n",
      " 13  muscle stiffness    520 non-null    object\n",
      " 14  Alopecia            520 non-null    object\n",
      " 15  Obesity             520 non-null    object\n",
      " 16  class               520 non-null    object\n",
      "dtypes: int64(1), object(16)\n",
      "memory usage: 69.2+ KB\n"
     ]
    }
   ],
   "source": [
    "# concise summary of the dataframe\n",
    "diabetes_data.info()"
   ]
  },
  {
   "cell_type": "markdown",
   "id": "7259e52f",
   "metadata": {},
   "source": [
    "From the above summary, the diabetes dataset has 520 data points and with 17 attributes with all values filled."
   ]
  },
  {
   "cell_type": "code",
   "execution_count": 5,
   "id": "08ea9504",
   "metadata": {},
   "outputs": [
    {
     "data": {
      "text/plain": [
       "Age                   0\n",
       "Gender                0\n",
       "Polyuria              0\n",
       "Polydipsia            0\n",
       "sudden weight loss    0\n",
       "weakness              0\n",
       "Polyphagia            0\n",
       "Genital thrush        0\n",
       "visual blurring       0\n",
       "Itching               0\n",
       "Irritability          0\n",
       "delayed healing       0\n",
       "partial paresis       0\n",
       "muscle stiffness      0\n",
       "Alopecia              0\n",
       "Obesity               0\n",
       "class                 0\n",
       "dtype: int64"
      ]
     },
     "execution_count": 5,
     "metadata": {},
     "output_type": "execute_result"
    }
   ],
   "source": [
    "# checking to confirm ifthere are no missing values\n",
    "diabetes_data.isna().sum()"
   ]
  },
  {
   "cell_type": "code",
   "execution_count": 6,
   "id": "d832c1fe",
   "metadata": {},
   "outputs": [
    {
     "data": {
      "text/html": [
       "<div>\n",
       "<style scoped>\n",
       "    .dataframe tbody tr th:only-of-type {\n",
       "        vertical-align: middle;\n",
       "    }\n",
       "\n",
       "    .dataframe tbody tr th {\n",
       "        vertical-align: top;\n",
       "    }\n",
       "\n",
       "    .dataframe thead th {\n",
       "        text-align: right;\n",
       "    }\n",
       "</style>\n",
       "<table border=\"1\" class=\"dataframe\">\n",
       "  <thead>\n",
       "    <tr style=\"text-align: right;\">\n",
       "      <th></th>\n",
       "      <th>Age</th>\n",
       "      <th>Gender</th>\n",
       "      <th>Polyuria</th>\n",
       "      <th>Polydipsia</th>\n",
       "      <th>sudden weight loss</th>\n",
       "      <th>weakness</th>\n",
       "      <th>Polyphagia</th>\n",
       "      <th>Genital thrush</th>\n",
       "      <th>visual blurring</th>\n",
       "      <th>Itching</th>\n",
       "      <th>Irritability</th>\n",
       "      <th>delayed healing</th>\n",
       "      <th>partial paresis</th>\n",
       "      <th>muscle stiffness</th>\n",
       "      <th>Alopecia</th>\n",
       "      <th>Obesity</th>\n",
       "      <th>class</th>\n",
       "    </tr>\n",
       "  </thead>\n",
       "  <tbody>\n",
       "    <tr>\n",
       "      <th>0</th>\n",
       "      <td>40</td>\n",
       "      <td>Male</td>\n",
       "      <td>No</td>\n",
       "      <td>Yes</td>\n",
       "      <td>No</td>\n",
       "      <td>Yes</td>\n",
       "      <td>No</td>\n",
       "      <td>No</td>\n",
       "      <td>No</td>\n",
       "      <td>Yes</td>\n",
       "      <td>No</td>\n",
       "      <td>Yes</td>\n",
       "      <td>No</td>\n",
       "      <td>Yes</td>\n",
       "      <td>Yes</td>\n",
       "      <td>Yes</td>\n",
       "      <td>Positive</td>\n",
       "    </tr>\n",
       "    <tr>\n",
       "      <th>1</th>\n",
       "      <td>58</td>\n",
       "      <td>Male</td>\n",
       "      <td>No</td>\n",
       "      <td>No</td>\n",
       "      <td>No</td>\n",
       "      <td>Yes</td>\n",
       "      <td>No</td>\n",
       "      <td>No</td>\n",
       "      <td>Yes</td>\n",
       "      <td>No</td>\n",
       "      <td>No</td>\n",
       "      <td>No</td>\n",
       "      <td>Yes</td>\n",
       "      <td>No</td>\n",
       "      <td>Yes</td>\n",
       "      <td>No</td>\n",
       "      <td>Positive</td>\n",
       "    </tr>\n",
       "    <tr>\n",
       "      <th>2</th>\n",
       "      <td>41</td>\n",
       "      <td>Male</td>\n",
       "      <td>Yes</td>\n",
       "      <td>No</td>\n",
       "      <td>No</td>\n",
       "      <td>Yes</td>\n",
       "      <td>Yes</td>\n",
       "      <td>No</td>\n",
       "      <td>No</td>\n",
       "      <td>Yes</td>\n",
       "      <td>No</td>\n",
       "      <td>Yes</td>\n",
       "      <td>No</td>\n",
       "      <td>Yes</td>\n",
       "      <td>Yes</td>\n",
       "      <td>No</td>\n",
       "      <td>Positive</td>\n",
       "    </tr>\n",
       "    <tr>\n",
       "      <th>3</th>\n",
       "      <td>45</td>\n",
       "      <td>Male</td>\n",
       "      <td>No</td>\n",
       "      <td>No</td>\n",
       "      <td>Yes</td>\n",
       "      <td>Yes</td>\n",
       "      <td>Yes</td>\n",
       "      <td>Yes</td>\n",
       "      <td>No</td>\n",
       "      <td>Yes</td>\n",
       "      <td>No</td>\n",
       "      <td>Yes</td>\n",
       "      <td>No</td>\n",
       "      <td>No</td>\n",
       "      <td>No</td>\n",
       "      <td>No</td>\n",
       "      <td>Positive</td>\n",
       "    </tr>\n",
       "    <tr>\n",
       "      <th>4</th>\n",
       "      <td>60</td>\n",
       "      <td>Male</td>\n",
       "      <td>Yes</td>\n",
       "      <td>Yes</td>\n",
       "      <td>Yes</td>\n",
       "      <td>Yes</td>\n",
       "      <td>Yes</td>\n",
       "      <td>No</td>\n",
       "      <td>Yes</td>\n",
       "      <td>Yes</td>\n",
       "      <td>Yes</td>\n",
       "      <td>Yes</td>\n",
       "      <td>Yes</td>\n",
       "      <td>Yes</td>\n",
       "      <td>Yes</td>\n",
       "      <td>Yes</td>\n",
       "      <td>Positive</td>\n",
       "    </tr>\n",
       "  </tbody>\n",
       "</table>\n",
       "</div>"
      ],
      "text/plain": [
       "   Age Gender Polyuria Polydipsia sudden weight loss weakness Polyphagia  \\\n",
       "0   40   Male       No        Yes                 No      Yes         No   \n",
       "1   58   Male       No         No                 No      Yes         No   \n",
       "2   41   Male      Yes         No                 No      Yes        Yes   \n",
       "3   45   Male       No         No                Yes      Yes        Yes   \n",
       "4   60   Male      Yes        Yes                Yes      Yes        Yes   \n",
       "\n",
       "  Genital thrush visual blurring Itching Irritability delayed healing  \\\n",
       "0             No              No     Yes           No             Yes   \n",
       "1             No             Yes      No           No              No   \n",
       "2             No              No     Yes           No             Yes   \n",
       "3            Yes              No     Yes           No             Yes   \n",
       "4             No             Yes     Yes          Yes             Yes   \n",
       "\n",
       "  partial paresis muscle stiffness Alopecia Obesity     class  \n",
       "0              No              Yes      Yes     Yes  Positive  \n",
       "1             Yes               No      Yes      No  Positive  \n",
       "2              No              Yes      Yes      No  Positive  \n",
       "3              No               No       No      No  Positive  \n",
       "4             Yes              Yes      Yes     Yes  Positive  "
      ]
     },
     "execution_count": 6,
     "metadata": {},
     "output_type": "execute_result"
    }
   ],
   "source": [
    "diabetes_data.head()"
   ]
  },
  {
   "cell_type": "markdown",
   "id": "f60f194f",
   "metadata": {},
   "source": [
    "## Label Encoding"
   ]
  },
  {
   "cell_type": "markdown",
   "id": "b8fc5791",
   "metadata": {},
   "source": [
    "Encoding categorical data to numbers before it is used to fit and evaluate a model.  \n",
    "The machine learning algorithms will perform better in terms of accuracy and other performance metrics when the data is represented as a number instead of categorical to a model for training and testing.  \n"
   ]
  },
  {
   "cell_type": "code",
   "execution_count": 7,
   "id": "a4ba3dd1",
   "metadata": {},
   "outputs": [
    {
     "data": {
      "text/html": [
       "<div>\n",
       "<style scoped>\n",
       "    .dataframe tbody tr th:only-of-type {\n",
       "        vertical-align: middle;\n",
       "    }\n",
       "\n",
       "    .dataframe tbody tr th {\n",
       "        vertical-align: top;\n",
       "    }\n",
       "\n",
       "    .dataframe thead th {\n",
       "        text-align: right;\n",
       "    }\n",
       "</style>\n",
       "<table border=\"1\" class=\"dataframe\">\n",
       "  <thead>\n",
       "    <tr style=\"text-align: right;\">\n",
       "      <th></th>\n",
       "      <th>Age</th>\n",
       "      <th>Gender</th>\n",
       "      <th>Polyuria</th>\n",
       "      <th>Polydipsia</th>\n",
       "      <th>sudden weight loss</th>\n",
       "      <th>weakness</th>\n",
       "      <th>Polyphagia</th>\n",
       "      <th>Genital thrush</th>\n",
       "      <th>visual blurring</th>\n",
       "      <th>Itching</th>\n",
       "      <th>Irritability</th>\n",
       "      <th>delayed healing</th>\n",
       "      <th>partial paresis</th>\n",
       "      <th>muscle stiffness</th>\n",
       "      <th>Alopecia</th>\n",
       "      <th>Obesity</th>\n",
       "      <th>class</th>\n",
       "    </tr>\n",
       "  </thead>\n",
       "  <tbody>\n",
       "    <tr>\n",
       "      <th>0</th>\n",
       "      <td>16</td>\n",
       "      <td>1</td>\n",
       "      <td>0</td>\n",
       "      <td>1</td>\n",
       "      <td>0</td>\n",
       "      <td>1</td>\n",
       "      <td>0</td>\n",
       "      <td>0</td>\n",
       "      <td>0</td>\n",
       "      <td>1</td>\n",
       "      <td>0</td>\n",
       "      <td>1</td>\n",
       "      <td>0</td>\n",
       "      <td>1</td>\n",
       "      <td>1</td>\n",
       "      <td>1</td>\n",
       "      <td>1</td>\n",
       "    </tr>\n",
       "    <tr>\n",
       "      <th>1</th>\n",
       "      <td>34</td>\n",
       "      <td>1</td>\n",
       "      <td>0</td>\n",
       "      <td>0</td>\n",
       "      <td>0</td>\n",
       "      <td>1</td>\n",
       "      <td>0</td>\n",
       "      <td>0</td>\n",
       "      <td>1</td>\n",
       "      <td>0</td>\n",
       "      <td>0</td>\n",
       "      <td>0</td>\n",
       "      <td>1</td>\n",
       "      <td>0</td>\n",
       "      <td>1</td>\n",
       "      <td>0</td>\n",
       "      <td>1</td>\n",
       "    </tr>\n",
       "    <tr>\n",
       "      <th>2</th>\n",
       "      <td>17</td>\n",
       "      <td>1</td>\n",
       "      <td>1</td>\n",
       "      <td>0</td>\n",
       "      <td>0</td>\n",
       "      <td>1</td>\n",
       "      <td>1</td>\n",
       "      <td>0</td>\n",
       "      <td>0</td>\n",
       "      <td>1</td>\n",
       "      <td>0</td>\n",
       "      <td>1</td>\n",
       "      <td>0</td>\n",
       "      <td>1</td>\n",
       "      <td>1</td>\n",
       "      <td>0</td>\n",
       "      <td>1</td>\n",
       "    </tr>\n",
       "    <tr>\n",
       "      <th>3</th>\n",
       "      <td>21</td>\n",
       "      <td>1</td>\n",
       "      <td>0</td>\n",
       "      <td>0</td>\n",
       "      <td>1</td>\n",
       "      <td>1</td>\n",
       "      <td>1</td>\n",
       "      <td>1</td>\n",
       "      <td>0</td>\n",
       "      <td>1</td>\n",
       "      <td>0</td>\n",
       "      <td>1</td>\n",
       "      <td>0</td>\n",
       "      <td>0</td>\n",
       "      <td>0</td>\n",
       "      <td>0</td>\n",
       "      <td>1</td>\n",
       "    </tr>\n",
       "    <tr>\n",
       "      <th>4</th>\n",
       "      <td>36</td>\n",
       "      <td>1</td>\n",
       "      <td>1</td>\n",
       "      <td>1</td>\n",
       "      <td>1</td>\n",
       "      <td>1</td>\n",
       "      <td>1</td>\n",
       "      <td>0</td>\n",
       "      <td>1</td>\n",
       "      <td>1</td>\n",
       "      <td>1</td>\n",
       "      <td>1</td>\n",
       "      <td>1</td>\n",
       "      <td>1</td>\n",
       "      <td>1</td>\n",
       "      <td>1</td>\n",
       "      <td>1</td>\n",
       "    </tr>\n",
       "  </tbody>\n",
       "</table>\n",
       "</div>"
      ],
      "text/plain": [
       "   Age  Gender  Polyuria  Polydipsia  sudden weight loss  weakness  \\\n",
       "0   16       1         0           1                   0         1   \n",
       "1   34       1         0           0                   0         1   \n",
       "2   17       1         1           0                   0         1   \n",
       "3   21       1         0           0                   1         1   \n",
       "4   36       1         1           1                   1         1   \n",
       "\n",
       "   Polyphagia  Genital thrush  visual blurring  Itching  Irritability  \\\n",
       "0           0               0                0        1             0   \n",
       "1           0               0                1        0             0   \n",
       "2           1               0                0        1             0   \n",
       "3           1               1                0        1             0   \n",
       "4           1               0                1        1             1   \n",
       "\n",
       "   delayed healing  partial paresis  muscle stiffness  Alopecia  Obesity  \\\n",
       "0                1                0                 1         1        1   \n",
       "1                0                1                 0         1        0   \n",
       "2                1                0                 1         1        0   \n",
       "3                1                0                 0         0        0   \n",
       "4                1                1                 1         1        1   \n",
       "\n",
       "   class  \n",
       "0      1  \n",
       "1      1  \n",
       "2      1  \n",
       "3      1  \n",
       "4      1  "
      ]
     },
     "execution_count": 7,
     "metadata": {},
     "output_type": "execute_result"
    }
   ],
   "source": [
    "# changing the categorical values to numeric values\n",
    "EncodedLabels=LabelEncoder() \n",
    "diabetes_data = diabetes_data.apply(EncodedLabels.fit_transform)\n",
    "diabetes_data.head()"
   ]
  },
  {
   "cell_type": "markdown",
   "id": "168fb4dc",
   "metadata": {},
   "source": [
    "## Retrieving independent variables and dependent variables. Use them to create training and test data"
   ]
  },
  {
   "cell_type": "code",
   "execution_count": 8,
   "id": "f84e2c43",
   "metadata": {},
   "outputs": [
    {
     "data": {
      "text/plain": [
       "(364, 16)"
      ]
     },
     "execution_count": 8,
     "metadata": {},
     "output_type": "execute_result"
    }
   ],
   "source": [
    "X = diabetes_data.iloc[:,:-1] #independent variables\n",
    "y = diabetes_data.iloc[:,-1:] #dependent variables\n",
    "\n",
    "#Split the data for training and testing\n",
    "X_train,X_test,y_train,y_test=train_test_split(X,y,test_size=0.3, random_state=42, stratify=y)\n",
    "X_train.shape"
   ]
  },
  {
   "cell_type": "markdown",
   "id": "a71df332",
   "metadata": {},
   "source": [
    "## Feature selection"
   ]
  },
  {
   "cell_type": "markdown",
   "id": "8422c07c",
   "metadata": {},
   "source": [
    "Used the forward stepwise regression approach to select features that significantly contribute to model performance with 95% confidence as another technique of dimensionality reduction. one feature at a time is added as the threshold is monitored, alpha=0.95, until addition of a feature goes beyond the set mark at which point addition stops."
   ]
  },
  {
   "cell_type": "code",
   "execution_count": 9,
   "id": "4677c34f",
   "metadata": {},
   "outputs": [
    {
     "name": "stdout",
     "output_type": "stream",
     "text": [
      "Add  Polyuria                       with p-value 6.38484e-68\n",
      "Add  Polydipsia                     with p-value 1.99898e-23\n",
      "Add  Gender                         with p-value 1.25289e-14\n",
      "Add  Irritability                   with p-value 8.35468e-07\n",
      "Add  Itching                        with p-value 1.53499e-05\n",
      "Add  Genital thrush                 with p-value 1.43641e-05\n",
      "Add  partial paresis                with p-value 0.0167456\n",
      "Add  delayed healing                with p-value 0.0172687\n",
      "                            OLS Regression Results                            \n",
      "==============================================================================\n",
      "Dep. Variable:                  class   R-squared:                       0.646\n",
      "Model:                            OLS   Adj. R-squared:                  0.640\n",
      "Method:                 Least Squares   F-statistic:                     103.5\n",
      "Date:                Tue, 29 Nov 2022   Prob (F-statistic):          4.40e-109\n",
      "Time:                        18:16:22   Log-Likelihood:                -93.038\n",
      "No. Observations:                 520   AIC:                             206.1\n",
      "Df Residuals:                     510   BIC:                             248.6\n",
      "Df Model:                           9                                         \n",
      "Covariance Type:            nonrobust                                         \n",
      "===================================================================================\n",
      "                      coef    std err          t      P>|t|      [0.025      0.975]\n",
      "-----------------------------------------------------------------------------------\n",
      "const               0.4510      0.034     13.324      0.000       0.384       0.517\n",
      "Polyuria            0.3332      0.034      9.849      0.000       0.267       0.400\n",
      "Polydipsia          0.2956      0.034      8.588      0.000       0.228       0.363\n",
      "Gender             -0.2761      0.029     -9.378      0.000      -0.334      -0.218\n",
      "Irritability        0.1527      0.031      4.850      0.000       0.091       0.215\n",
      "Itching            -0.1121      0.029     -3.807      0.000      -0.170      -0.054\n",
      "Genital thrush      0.1733      0.034      5.155      0.000       0.107       0.239\n",
      "partial paresis     0.0825      0.032      2.590      0.010       0.020       0.145\n",
      "delayed healing    -0.0776      0.030     -2.570      0.010      -0.137      -0.018\n",
      "weakness            0.0338      0.030      1.135      0.257      -0.025       0.092\n",
      "==============================================================================\n",
      "Omnibus:                       35.676   Durbin-Watson:                   1.089\n",
      "Prob(Omnibus):                  0.000   Jarque-Bera (JB):               41.925\n",
      "Skew:                           0.695   Prob(JB):                     7.87e-10\n",
      "Kurtosis:                       2.958   Cond. No.                         6.10\n",
      "==============================================================================\n",
      "\n",
      "Notes:\n",
      "[1] Standard Errors assume that the covariance matrix of the errors is correctly specified.\n"
     ]
    }
   ],
   "source": [
    "#forward regression method from https://github.com/AakkashVijayakumar/stepwise-regression/blob/master/stepwise_regression/step_reg.py\n",
    "#passing X,y as \n",
    "X = diabetes_data.iloc[:,:-1]\n",
    "y = diabetes_data.iloc[:,-1:]\n",
    "#list to hold selected features\n",
    "selectedFeatures =[]\n",
    "def forward_regression(X, y,\n",
    "                       threshold_in,\n",
    "                       verbose=False):\n",
    "    initial_list = []\n",
    "    bic={}\n",
    "    included = list(initial_list)\n",
    "    while True:\n",
    "        changed=False\n",
    "        excluded = list(set(X.columns)-set(included))\n",
    "        new_pval = pd.Series(index=excluded)\n",
    "        for new_column in excluded:\n",
    "            model = sm.OLS(y, sm.add_constant(pd.DataFrame(X[included+[new_column]]))).fit()\n",
    "            bic[model.bic]=included+[new_column]\n",
    "            new_pval[new_column] = model.pvalues[new_column]\n",
    "        best_pval = new_pval.min()\n",
    "        if best_pval < threshold_in:\n",
    "            best_feature = new_pval.idxmin()\n",
    "            included.append(best_feature)\n",
    "            changed=True\n",
    "            if verbose:\n",
    "                print('Add  {:30} with p-value {:.6}'.format(best_feature, best_pval))\n",
    "                selectedFeatures.append(best_feature)#storing the added feature\n",
    "\n",
    "        if not changed:\n",
    "            break\n",
    "    print(model.summary())\n",
    "    return included\n",
    "    \n",
    "b=forward_regression(X,y,0.05,verbose=True)#function call to forward regression"
   ]
  },
  {
   "cell_type": "code",
   "execution_count": 10,
   "id": "096ceccd",
   "metadata": {},
   "outputs": [
    {
     "name": "stdout",
     "output_type": "stream",
     "text": [
      "['Polyuria', 'Polydipsia', 'Gender', 'Irritability', 'Itching', 'Genital thrush', 'partial paresis', 'delayed healing']\n"
     ]
    }
   ],
   "source": [
    "#selected features\n",
    "print(selectedFeatures)"
   ]
  },
  {
   "cell_type": "markdown",
   "id": "5ac8450f",
   "metadata": {},
   "source": [
    "8 out of 16 features have been selected and will be used to fit the models."
   ]
  },
  {
   "cell_type": "markdown",
   "id": "5d322334",
   "metadata": {},
   "source": [
    "# Build the models and evaluate them. Random Forest, naïve Bayes, and artificial neural networks"
   ]
  },
  {
   "cell_type": "code",
   "execution_count": 11,
   "id": "867d9074",
   "metadata": {},
   "outputs": [],
   "source": [
    "# confusion matrix fucntion\n",
    "def graph_confusion_matrix(cmatrix):\n",
    "    # Print the confusion matrix using Matplotlib\n",
    "    fig, ax = plt.subplots(figsize=(4, 4))\n",
    "    ax.matshow(cmatrix, cmap='rainbow')\n",
    "    for i in range(cmatrix.shape[0]):\n",
    "        for j in range(cmatrix.shape[1]):\n",
    "            ax.text(x=j, y=i,s=cmatrix[i, j], va='center', ha='center', size='large')\n",
    "\n",
    "    plt.xlabel('Predicted', fontsize=12)\n",
    "    plt.ylabel('Actual', fontsize=12)\n",
    "    plt.title('Confusion Matrix', fontsize=12)\n",
    "    plt.show()"
   ]
  },
  {
   "cell_type": "code",
   "execution_count": 12,
   "id": "db77b0dd",
   "metadata": {},
   "outputs": [],
   "source": [
    "#function to instantiate classifier\n",
    "def create_classifier(model_type):\n",
    "    if model_type=='random forest':\n",
    "        return RandomForestClassifier(n_estimators=50, random_state=42)\n",
    "    elif model_type=='naive bayes':\n",
    "        return GaussianNB()\n",
    "    else:\n",
    "        return None"
   ]
  },
  {
   "cell_type": "code",
   "execution_count": 13,
   "id": "2c123fd0",
   "metadata": {},
   "outputs": [],
   "source": [
    "#Function to train a model\n",
    "def build_model(model, X_train, y_train):\n",
    "    model.fit(X_train,y_train)#train the model\n",
    "    return model"
   ]
  },
  {
   "cell_type": "code",
   "execution_count": 14,
   "id": "1d7f66bd",
   "metadata": {},
   "outputs": [],
   "source": [
    "#function to perform prediction\n",
    "def predict(model,X_test):\n",
    "    return model.predict(X_test)"
   ]
  },
  {
   "cell_type": "code",
   "execution_count": 15,
   "id": "776ce081",
   "metadata": {},
   "outputs": [
    {
     "data": {
      "image/png": "[encoded data removed]",
      "text/plain": [
       "<Figure size 400x400 with 1 Axes>"
      ]
     },
     "metadata": {},
     "output_type": "display_data"
    },
    {
     "name": "stdout",
     "output_type": "stream",
     "text": [
      "Classification Report:\n",
      "\n",
      "Precision:0.943\n",
      "Recall:0.942\n",
      "f1-score:0.942\n"
     ]
    }
   ],
   "source": [
    "#Build Random Forest model\n",
    "#create classifier and predict for test set\n",
    "rf_model=create_classifier('random forest')\n",
    "rf_model=build_model(rf_model, X_train[selectedFeatures], y_train)\n",
    "rfc_prediction=predict(rf_model,X_test[selectedFeatures])\n",
    "\n",
    "# metrics\n",
    "rf_cmatrix=confusion_matrix(y_test,rfc_prediction)\n",
    "graph_confusion_matrix(rf_cmatrix)\n",
    "\n",
    "print(\"Classification Report:\")\n",
    "rf_c_report=classification_report(y_test,rfc_prediction,output_dict=True)\n",
    "rf_precision=rf_c_report['weighted avg']['precision']\n",
    "rf_recall=rf_c_report['weighted avg']['recall']\n",
    "rf_f1score=rf_c_report['weighted avg']['f1-score']\n",
    "print()\n",
    "print(f\"Precision:{rf_precision:.3f}\\nRecall:{rf_recall:.3f}\\\n",
    "\\nf1-score:{rf_f1score:.3f}\")"
   ]
  },
  {
   "cell_type": "markdown",
   "id": "d597da09",
   "metadata": {},
   "source": [
    "Confusion matrix Report:  \n",
    "Out of the 156 predictions, the random forest model predicted that 95 patients have diabetes and 61 patients do not have diabetes.\n",
    "In reality only 96 patients have diabetes and 60 do not."
   ]
  },
  {
   "cell_type": "code",
   "execution_count": 16,
   "id": "fea9a08e",
   "metadata": {},
   "outputs": [
    {
     "data": {
      "image/png": "[encoded data removed]",
      "text/plain": [
       "<Figure size 400x400 with 1 Axes>"
      ]
     },
     "metadata": {},
     "output_type": "display_data"
    },
    {
     "name": "stdout",
     "output_type": "stream",
     "text": [
      "Classification Report:\n",
      "\n",
      "Precision:0.904\n",
      "Recall:0.904\n",
      "f1-score:0.904\n"
     ]
    }
   ],
   "source": [
    "# Build naïve Bayes model\n",
    "naive_model=create_classifier('naive bayes')\n",
    "naive_model=build_model(naive_model, X_train[selectedFeatures], y_train)\n",
    "naive_prediction=predict(naive_model,X_test[selectedFeatures])\n",
    "\n",
    "# metrics\n",
    "nb_cmatrix=confusion_matrix(y_test,naive_prediction)\n",
    "graph_confusion_matrix(nb_cmatrix)\n",
    "\n",
    "print(\"Classification Report:\")\n",
    "nb_c_report=classification_report(y_test,naive_prediction,output_dict=True)\n",
    "#print(rf_c_report)\n",
    "nb_precision=nb_c_report['weighted avg']['precision']\n",
    "nb_recall=nb_c_report['weighted avg']['recall']\n",
    "nb_f1score=nb_c_report['weighted avg']['f1-score']\n",
    "print()\n",
    "print(f\"Precision:{nb_precision:.3f}\\nRecall:{nb_recall:.3f}\\\n",
    "\\nf1-score:{nb_f1score:.3f}\")"
   ]
  },
  {
   "cell_type": "markdown",
   "id": "97e95b56",
   "metadata": {},
   "source": [
    "Confusion matrix Report:  \n",
    "Out of the 156 predictions, the naives bayes model predicted that 95 patients have diabetes and 61 patients do not have diabetes.\n",
    "In reality only 96 patients have diabetes and 60 do not."
   ]
  },
  {
   "cell_type": "code",
   "execution_count": 17,
   "id": "502a3e84",
   "metadata": {},
   "outputs": [
    {
     "name": "stdout",
     "output_type": "stream",
     "text": [
      "accuracy score: 0.9423076923076923\n"
     ]
    },
    {
     "data": {
      "image/png": "[encoded data removed]",
      "text/plain": [
       "<Figure size 400x400 with 1 Axes>"
      ]
     },
     "metadata": {},
     "output_type": "display_data"
    },
    {
     "name": "stdout",
     "output_type": "stream",
     "text": [
      "Classification Report:\n",
      "\n",
      "Precision:0.944\n",
      "Recall:0.942\n",
      "f1-score:0.943\n"
     ]
    }
   ],
   "source": [
    "# Build artificial neural networks model\n",
    "\n",
    "mlp = MLPClassifier(random_state=42, max_iter=300, hidden_layer_sizes=(10, 4), solver='lbfgs', activation='relu', batch_size=32)\n",
    "\n",
    "mlp.fit(X_train[selectedFeatures], y_train)\n",
    "mlp_prediction=mlp.predict(X_test[selectedFeatures])\n",
    "score=mlp.score(X_test[selectedFeatures], y_test)\n",
    "print(\"accuracy score:\", score)\n",
    "\n",
    "# metrics\n",
    "mlp_cmatrix=confusion_matrix(y_test,mlp_prediction)\n",
    "graph_confusion_matrix(mlp_cmatrix)\n",
    "\n",
    "print(\"Classification Report:\")\n",
    "mlp_c_report=classification_report(y_test,mlp_prediction,output_dict=True)\n",
    "#print(rf_c_report)\n",
    "mlp_precision=mlp_c_report['weighted avg']['precision']\n",
    "mlp_recall=mlp_c_report['weighted avg']['recall']\n",
    "mlp_f1score=mlp_c_report['weighted avg']['f1-score']\n",
    "print()\n",
    "print(f\"Precision:{mlp_precision:.3f}\\nRecall:{mlp_recall:.3f}\\\n",
    "\\nf1-score:{mlp_f1score:.3f}\")\n"
   ]
  },
  {
   "cell_type": "markdown",
   "id": "5db92e4e",
   "metadata": {},
   "source": [
    "Confusion matrix Report:  \n",
    "Out of the 156 predictions, the artificial neural networks model predicted that 93 patients have diabetes and 63 patients do not have diabetes.\n",
    "In reality only 96 patients have diabetes and 60 do not."
   ]
  },
  {
   "cell_type": "markdown",
   "id": "82eb597a",
   "metadata": {},
   "source": [
    "## Retrieve precision, recall, and F1-score values and graph them."
   ]
  },
  {
   "cell_type": "code",
   "execution_count": 18,
   "id": "240008b0",
   "metadata": {},
   "outputs": [],
   "source": [
    "#Retrieve precision, recall, and f1-score\n",
    "precisions={\"random forest\":rf_precision, \"naïve Bayes\":nb_precision, \"neural network\":mlp_precision}\n",
    "recalls={\"random forest\":rf_recall, \"naïve Bayes\":nb_recall, \"neural network\":mlp_recall}\n",
    "f1_scores={\"random forest\":rf_f1score, \"naïve Bayes\":nb_f1score, \"neural network\":mlp_f1score}"
   ]
  },
  {
   "cell_type": "code",
   "execution_count": 19,
   "id": "857b27b0",
   "metadata": {},
   "outputs": [
    {
     "data": {
      "image/png": "[encoded data removed]",
      "text/plain": [
       "<Figure size 640x480 with 1 Axes>"
      ]
     },
     "metadata": {},
     "output_type": "display_data"
    },
    {
     "data": {
      "image/png": "[encoded data removed]",
      "text/plain": [
       "<Figure size 640x480 with 1 Axes>"
      ]
     },
     "metadata": {},
     "output_type": "display_data"
    },
    {
     "data": {
      "image/png": "[encoded data removed]",
      "text/plain": [
       "<Figure size 640x480 with 1 Axes>"
      ]
     },
     "metadata": {},
     "output_type": "display_data"
    },
    {
     "data": {
      "text/plain": [
       "<Figure size 640x480 with 0 Axes>"
      ]
     },
     "metadata": {},
     "output_type": "display_data"
    }
   ],
   "source": [
    "# Plot the graph of precision\n",
    "models=list(precisions.keys())\n",
    "modelPrecisions=list(precisions.values())\n",
    "plt.bar(models, modelPrecisions, width = 0.5)\n",
    "#Set up other properties e.g. label and title\n",
    "plt.xlabel(\"Model\", color='black')\n",
    "plt.ylabel(\"Precision\", color='black')\n",
    "plt.title(\"Comparison of Model Precision\", color='blue')\n",
    "plt.show()\n",
    "\n",
    "# Plot the graph of recall\n",
    "models=list(recalls.keys())\n",
    "modelRecalls=list(recalls.values())\n",
    "plt.bar(models, modelRecalls, width = 0.5)\n",
    "#Set up other properties e.g. label and title\n",
    "plt.xlabel(\" Model\", color='black')\n",
    "plt.ylabel(\"Recall\", color='black')\n",
    "plt.title(\"Comparison of Model Recall\", color='blue')\n",
    "plt.show()\n",
    "\n",
    "# Plot the graph of f1score\n",
    "models=list(f1_scores.keys())\n",
    "modelF1scores=list(f1_scores.values())\n",
    "plt.bar(models, modelF1scores, width = 0.5)\n",
    "#Set up other properties e.g. label and title\n",
    "plt.xlabel(\"Model\", color='black')\n",
    "plt.ylabel(\"F1-Score\", color='black')\n",
    "plt.title(\"Comparison of Model F1-Score\", color='blue')\n",
    "plt.show()\n",
    "plt.tight_layout()"
   ]
  },
  {
   "cell_type": "markdown",
   "id": "ae4a774f",
   "metadata": {},
   "source": [
    "For all the metrics Naïve Bayes model performs worse than the other two models. With the Random forest model performing slightly \n",
    "lower than the Artificial neural network model. Therefore the Artificial neural network model performs best compared to the other two models \n"
   ]
  },
  {
   "cell_type": "markdown",
   "id": "b699b9c2",
   "metadata": {},
   "source": [
    "#  Cross Validation"
   ]
  },
  {
   "cell_type": "markdown",
   "id": "736ed7d7",
   "metadata": {},
   "source": [
    "Performed 6-fold cross validation"
   ]
  },
  {
   "cell_type": "code",
   "execution_count": 20,
   "id": "f12f0988",
   "metadata": {},
   "outputs": [
    {
     "name": "stdout",
     "output_type": "stream",
     "text": [
      "Random Forest model Cross-validated scores:\n",
      "\n",
      "Precision: 0.9527511755964007\n",
      "Recall: 0.952085004009623\n",
      "f1-score: 0.9517957373422844\n"
     ]
    }
   ],
   "source": [
    "# Random Forest model\n",
    "X = diabetes_data[selectedFeatures]\n",
    "\n",
    "rfc_precision  = cross_val_score(rf_model, X, y, cv=6, scoring='precision_weighted')\n",
    "rfc_recall  = cross_val_score(rf_model, X, y, cv=6, scoring='recall_weighted')\n",
    "rfc_f1score  = cross_val_score(rf_model, X, y, cv=6, scoring='f1_weighted')\n",
    "\n",
    "average_precision_rf = rfc_precision.mean()\n",
    "average_recall_rf = rfc_recall.mean()\n",
    "average_f1score_rf = rfc_f1score.mean()\n",
    "print(\"Random Forest model Cross-validated scores:\\n\")\n",
    "print(\"Precision:\",average_precision_rf)\n",
    "print(\"Recall:\",average_recall_rf)\n",
    "print(\"f1-score:\",average_f1score_rf)"
   ]
  },
  {
   "cell_type": "code",
   "execution_count": 21,
   "id": "dc1ffa86",
   "metadata": {},
   "outputs": [
    {
     "name": "stdout",
     "output_type": "stream",
     "text": [
      "Naïve Bayes model Cross-validated scores:\n",
      "\n",
      "Precision: 0.8830238999922903\n",
      "Recall: 0.8770382250735098\n",
      "f1-score: 0.8748834337783343\n"
     ]
    }
   ],
   "source": [
    "# Naïve Bayes model\n",
    "nbc_precision  = cross_val_score(naive_model, X, y, cv=6, scoring='precision_weighted')\n",
    "nbc_recall  = cross_val_score(naive_model, X, y, cv=6, scoring='recall_weighted')\n",
    "nbc_f1score  = cross_val_score(naive_model, X, y, cv=6, scoring='f1_weighted')\n",
    "\n",
    "\n",
    "average_precision_nb = nbc_precision.mean()\n",
    "average_recall_nb = nbc_recall.mean()\n",
    "average_f1score_nb = nbc_f1score.mean()\n",
    "\n",
    "print(\"Naïve Bayes model Cross-validated scores:\\n\")\n",
    "print(\"Precision:\",average_precision_nb)\n",
    "print(\"Recall:\",average_recall_nb)\n",
    "print(\"f1-score:\",average_f1score_nb)"
   ]
  },
  {
   "cell_type": "code",
   "execution_count": 22,
   "id": "c07fb6e5",
   "metadata": {},
   "outputs": [
    {
     "name": "stdout",
     "output_type": "stream",
     "text": [
      "Artificial neural network model Cross-validated scores:\n",
      "\n",
      "Precision: 0.9435516239105389\n",
      "Recall: 0.9425064599483203\n",
      "f1-score: 0.9426109457403874\n"
     ]
    }
   ],
   "source": [
    "# artificial neural network model\n",
    "nnc_precision  = cross_val_score(mlp, X, y, cv=6, scoring='precision_weighted')\n",
    "nnc_recall  = cross_val_score(mlp, X, y, cv=6, scoring='recall_weighted')\n",
    "nnc_f1score  = cross_val_score(mlp, X, y, cv=6, scoring='f1_weighted')\n",
    "\n",
    "average_precision_nn = nnc_precision.mean()\n",
    "average_recall_nn = nnc_recall.mean()\n",
    "average_f1score_nn = nnc_f1score.mean()\n",
    "\n",
    "print(\"Artificial neural network model Cross-validated scores:\\n\")\n",
    "print(\"Precision:\",average_precision_nn)\n",
    "print(\"Recall:\",average_recall_nn)\n",
    "print(\"f1-score:\",average_f1score_nn)\n"
   ]
  },
  {
   "cell_type": "markdown",
   "id": "f2263f06",
   "metadata": {},
   "source": [
    "## Accuracy Visualizations"
   ]
  },
  {
   "cell_type": "code",
   "execution_count": 23,
   "id": "75b4d1be",
   "metadata": {},
   "outputs": [],
   "source": [
    "#Retrieve precision, recall, and f1-score\n",
    "    precisions={\"random forest\":average_precision_rf, \"naïve Bayes\":average_precision_nb, \"neural network\":average_precision_nn}\n",
    "    recalls={\"random forest\":average_recall_rf, \"naïve Bayes\":average_recall_nb, \"neural network\":average_recall_nn}\n",
    "f1_scores={\"random forest\":average_f1score_rf, \"naïve Bayes\":average_f1score_nb, \"neural network\":average_f1score_nn}"
   ]
  },
  {
   "cell_type": "code",
   "execution_count": 24,
   "id": "7fa2452a",
   "metadata": {},
   "outputs": [
    {
     "data": {
      "image/png": "[encoded data removed]",
      "text/plain": [
       "<Figure size 640x480 with 1 Axes>"
      ]
     },
     "metadata": {},
     "output_type": "display_data"
    },
    {
     "data": {
      "image/png": "[encoded data removed]",
      "text/plain": [
       "<Figure size 640x480 with 1 Axes>"
      ]
     },
     "metadata": {},
     "output_type": "display_data"
    },
    {
     "data": {
      "image/png": "[encoded data removed]",
      "text/plain": [
       "<Figure size 640x480 with 1 Axes>"
      ]
     },
     "metadata": {},
     "output_type": "display_data"
    },
    {
     "data": {
      "text/plain": [
       "<Figure size 640x480 with 0 Axes>"
      ]
     },
     "metadata": {},
     "output_type": "display_data"
    }
   ],
   "source": [
    "# Plot the graph of precision\n",
    "models=list(precisions.keys())\n",
    "modelPrecisions=list(precisions.values())\n",
    "plt.bar(models, modelPrecisions, width = 0.5)\n",
    "#Set up other properties e.g. label and title\n",
    "plt.xlabel(\"Model\", color='black')\n",
    "plt.ylabel(\"Precision\", color='black')\n",
    "plt.title(\"Comparison of Model Performace with Precision\", color='blue')\n",
    "plt.show()\n",
    "\n",
    "# Plot the graph of recall\n",
    "models=list(recalls.keys())\n",
    "modelRecalls=list(recalls.values())\n",
    "plt.bar(models, modelRecalls, width = 0.5)\n",
    "#Set up other properties e.g. label and title\n",
    "plt.xlabel(\" Model\", color='black')\n",
    "plt.ylabel(\"Recall\", color='black')\n",
    "plt.title(\"Comparison of Model Performace with Recall\", color='blue')\n",
    "plt.show()\n",
    "\n",
    "# Plot the graph of f1score\n",
    "models=list(f1_scores.keys())\n",
    "modelF1scores=list(f1_scores.values())\n",
    "plt.bar(models, modelF1scores, width = 0.5)\n",
    "#Set up other properties e.g. label and title\n",
    "plt.xlabel(\"Model\", color='black')\n",
    "plt.ylabel(\"F1-Score\", color='black')\n",
    "plt.title(\"Comparison of Model Performace with F1-Score\", color='blue')\n",
    "plt.show()\n",
    "plt.tight_layout()"
   ]
  },
  {
   "cell_type": "markdown",
   "id": "b0b2f53a",
   "metadata": {},
   "source": [
    "For all the metrics, Naïve Bayes model performs worse than the other two models. With the Artificial neural network model performing slightly lower than the Random forest model. Thus, the Random forest model performs the best."
   ]
  },
  {
   "cell_type": "markdown",
   "id": "94467424",
   "metadata": {},
   "source": [
    "# Performance comparison of the algorithms under percentage split and cross-validation."
   ]
  },
  {
   "cell_type": "code",
   "execution_count": 25,
   "id": "cc3228b1",
   "metadata": {},
   "outputs": [],
   "source": [
    "#installing the library if not installed\n",
    "# pip install prettytable "
   ]
  },
  {
   "cell_type": "code",
   "execution_count": 26,
   "id": "5ac764eb",
   "metadata": {},
   "outputs": [
    {
     "name": "stdout",
     "output_type": "stream",
     "text": [
      "Model Performance under Percentage split\n",
      "+---------------------------+--------------------+--------------------+--------------------+\n",
      "|         Algorithm         |     Precision      |       Recall       |      f1-score      |\n",
      "+---------------------------+--------------------+--------------------+--------------------+\n",
      "|       Random forest       | 0.9425632176279287 | 0.9423076923076923 | 0.9423950632898752 |\n",
      "|        Naïve Bayes        | 0.9042145085285722 | 0.9038461538461539 | 0.9039917721497921 |\n",
      "| Artificial neural network | 0.9435188467446531 | 0.9423076923076923 | 0.9425533815777717 |\n",
      "+---------------------------+--------------------+--------------------+--------------------+\n",
      "\n",
      "Model Performance under cross-validation\n",
      "+---------------------------+--------------------+--------------------+--------------------+\n",
      "|         Algorithm         |     Precision      |       Recall       |      f1-score      |\n",
      "+---------------------------+--------------------+--------------------+--------------------+\n",
      "|       Random forest       | 0.9527511755964007 | 0.952085004009623  | 0.9517957373422844 |\n",
      "|        Naïve Bayes        | 0.8830238999922903 | 0.8770382250735098 | 0.8748834337783343 |\n",
      "| Artificial neural network | 0.9435516239105389 | 0.9425064599483203 | 0.9426109457403874 |\n",
      "+---------------------------+--------------------+--------------------+--------------------+\n"
     ]
    }
   ],
   "source": [
    "#percentage split\n",
    "print(\"Model Performance under Percentage split\")\n",
    "\n",
    "percentage_split  = PrettyTable([\"Algorithm\",\"Precision\", \"Recall\", \"f1-score\"])\n",
    "\n",
    "percentage_split.add_row([\"Random forest\", rf_precision, rf_recall, rf_f1score])\n",
    "percentage_split.add_row([\"Naïve Bayes\", nb_precision, nb_recall, nb_f1score])\n",
    "percentage_split.add_row([\"Artificial neural network\", mlp_precision, mlp_recall, mlp_f1score])\n",
    "  \n",
    "print(percentage_split)\n",
    "\n",
    "# cross-validation.\n",
    "print(\"\\nModel Performance under cross-validation\")\n",
    "\n",
    "cross_validation  = PrettyTable([\"Algorithm\",\"Precision\", \"Recall\", \"f1-score\"])\n",
    "\n",
    "cross_validation.add_row([\"Random forest\", average_precision_rf, average_recall_rf, average_f1score_rf])\n",
    "cross_validation.add_row([\"Naïve Bayes\", average_precision_nb, average_recall_nb, average_f1score_nb])\n",
    "cross_validation.add_row([\"Artificial neural network\", average_precision_nn, average_recall_nn, average_f1score_nn])\n",
    "  \n",
    "print(cross_validation)\n",
    "\n"
   ]
  },
  {
   "cell_type": "markdown",
   "id": "3021e5ae",
   "metadata": {},
   "source": [
    "The Random forest algorithm performed better under cross-validation compared to percentage split.  \n",
    "The Naïve Bayes algorithm performed better under percentage split compared to cross-validation.  \n",
    "The Artificial neural network algorithm performed slightly better under cross-validation compared to percentage split.\n",
    "\n"
   ]
  },
  {
   "cell_type": "markdown",
   "id": "bf812eb4",
   "metadata": {},
   "source": [
    "\n",
    "Based on the cross-validation results, it is recommended to apply the Random Forest model."
   ]
  },
  {
   "cell_type": "code",
   "execution_count": null,
   "id": "93d4e4bd",
   "metadata": {},
   "outputs": [],
   "source": []
  }
 ],
 "metadata": {
  "kernelspec": {
   "display_name": "Python 3 (ipykernel)",
   "language": "python",
   "name": "python3"
  },
  "language_info": {
   "codemirror_mode": {
    "name": "ipython",
    "version": 3
   },
   "file_extension": ".py",
   "mimetype": "text/x-python",
   "name": "python",
   "nbconvert_exporter": "python",
   "pygments_lexer": "ipython3",
   "version": "3.9.12"
  }
 },
 "nbformat": 4,
 "nbformat_minor": 5
}
